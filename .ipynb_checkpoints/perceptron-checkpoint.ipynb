{
 "cells": [
  {
   "cell_type": "markdown",
   "metadata": {},
   "source": [
    "# Perceptron\n",
    "\n",
    "$$\n",
    "\\newcommand{\\bm}[1]{\\boldsymbol{#1}}\n",
    "$$\n",
    "\n",
    "## Motivation\n",
    "Given data vector $\\bm{x}=(1,x_1,x_2,\\ldots,x_p)^\\top$ and weight vector $\\bm{w}=(w_0,w_1,\\ldots,w_p)^\\top$.\n",
    "\n",
    "We want to classify two classes with inner product $z=\\bm{w}^\\top\\bm{x}$　and its function (**activation function**) $\\phi(z)$\n",
    "\n",
    "As a activation function we now use heaviside function such as,\n",
    "$$\n",
    "\\phi(z)=\n",
    "\\begin{cases}\n",
    "1 && (z\\geq 0)\\\\\n",
    "-1 && (z<0)\n",
    "\\end{cases}\n",
    "$$\n",
    "**We want to find a optimal $\\bm{w}$ which classifies the data into 2 class (1 and -1) precisely.**\n",
    "\n",
    "## Procedure\n",
    "Given set of pairs of data and label $\\{(\\bm{x}^{(i)},y^{(i)})\\}_{i=1}^N$ and the number of components in $\\bm{x}$ is $p$. We update the weight vector $\\bm{w}$ in the following procedure. \n",
    "\n",
    "1. Initialize weight vector $\\bm{w}$ and output $$ with 0 or small random variable.\n",
    "\n",
    "2. Calculate the output of $\\bm{x}^{(i)}$\n",
    "    $$\n",
    "    \\text{output}^{(i)}=\\phi(\\bm{w}^\\top\\bm{x}^{(i)})\n",
    "    $$\n",
    "3. For every data　$\\bm{x}^{(i)}(i=1,2,\\ldots,N)$, we calculate update width $\\Delta \\bm{w}$.\n",
    "\n",
    "    \\begin{align}\n",
    "    &\\Delta w_0=\\eta(y^{(i)}-\\text{output}^{(i)}) & \\\\\n",
    "    &\\Delta w_j=\\eta(y^{(i)}-\\text{output}^{(i)})x^{(i)}_j \\quad (j=1,2,\\ldots,p)\n",
    "    \\end{align}\n",
    "    \n",
    "4. Update weight vector $\\bm{w}$\n",
    "$$\n",
    "\\bm{w}:=\\bm{w}+\\Delta\\bm{w}\n",
    "$$\n",
    "\n",
    "## Coding"
   ]
  },
  {
   "cell_type": "code",
   "execution_count": 1,
   "metadata": {
    "collapsed": true
   },
   "outputs": [],
   "source": [
    "import numpy as np"
   ]
  },
  {
   "cell_type": "code",
   "execution_count": 3,
   "metadata": {
    "collapsed": true
   },
   "outputs": [],
   "source": [
    "class Perceptron(object):\n",
    "    \n",
    "    def __init__(self,sta=0.01,n_iter=10):\n",
    "        self.eta = eta\n",
    "        self.n_iter = n_iter\n",
    "    def fit(self,X,y):\n",
    "        self.w = np.zeros(1+X.shape[1])\n",
    "        self.errors_ = []\n",
    "        \n",
    "        for _ in range(self.n_iter):\n",
    "            errors = 0\n",
    "            for xi, target in zip(X,y):\n",
    "                update = self.eta * (target - self.predict(xi))\n",
    "                self.w_[1:] += update * xi\n",
    "                self.w_[0] += update\n",
    "                errors += int(update != 0.0)\n",
    "            self.errors_.append(errors)\n",
    "        return self\n",
    "    \n",
    "    def net_input(self,X):\n",
    "        return np.dot(X,self.w_[1:]) + self.w_[0]\n",
    "    \n",
    "    def predict(self,X):\n",
    "        return np.where(self.net_input(X) >= 0.0 , 1, -1)"
   ]
  },
  {
   "cell_type": "code",
   "execution_count": 6,
   "metadata": {},
   "outputs": [
    {
     "name": "stdout",
     "output_type": "stream",
     "text": [
      "-1\n"
     ]
    }
   ],
   "source": [
    "x=[-0.1,-0.1,1]\n",
    "y=np.where(-1>=0,1,-1)\n",
    "print(y)"
   ]
  },
  {
   "cell_type": "code",
   "execution_count": null,
   "metadata": {
    "collapsed": true
   },
   "outputs": [],
   "source": []
  }
 ],
 "metadata": {
  "anaconda-cloud": {},
  "kernelspec": {
   "display_name": "Python [conda root]",
   "language": "python",
   "name": "conda-root-py"
  },
  "language_info": {
   "codemirror_mode": {
    "name": "ipython",
    "version": 3
   },
   "file_extension": ".py",
   "mimetype": "text/x-python",
   "name": "python",
   "nbconvert_exporter": "python",
   "pygments_lexer": "ipython3",
   "version": "3.5.2"
  },
  "toc": {
   "colors": {
    "hover_highlight": "#DAA520",
    "navigate_num": "#000000",
    "navigate_text": "#333333",
    "running_highlight": "#FF0000",
    "selected_highlight": "#FFD700",
    "sidebar_border": "#EEEEEE",
    "wrapper_background": "#FFFFFF"
   },
   "moveMenuLeft": true,
   "nav_menu": {
    "height": "4px",
    "width": "254px"
   },
   "navigate_menu": true,
   "number_sections": true,
   "sideBar": true,
   "threshold": 4,
   "toc_cell": false,
   "toc_section_display": "block",
   "toc_window_display": false,
   "widenNotebook": false
  }
 },
 "nbformat": 4,
 "nbformat_minor": 2
}
